{
 "cells": [
  {
   "cell_type": "markdown",
   "metadata": {},
   "source": [
    "# GA Prototype"
   ]
  },
  {
   "cell_type": "code",
   "execution_count": 1,
   "metadata": {},
   "outputs": [],
   "source": [
    "import json \n",
    "import pandas as pd\n",
    "import matplotlib.pyplot as plt\n",
    "import numpy as np # linear algebra\n",
    "import seaborn as sns\n",
    "import facebook\n",
    "\n",
    "from dotenv import dotenv_values\n",
    "from sklearn.linear_model import LinearRegression\n",
    "from sklearn.ensemble import RandomForestClassifier\n",
    "from sklearn import metrics\n",
    "from sklearn.metrics import mean_squared_error\n",
    "from sklearn.metrics import r2_score\n",
    "from sklearn.model_selection import train_test_split\n",
    "from sklearn.metrics import confusion_matrix\n",
    "from sklearn.cluster import KMeans #The k-means algorithm"
   ]
  },
  {
   "cell_type": "code",
   "execution_count": 4,
   "metadata": {},
   "outputs": [
    {
     "name": "stdout",
     "output_type": "stream",
     "text": [
      "{\n",
      "    \"name\": \"Dani\\u00ebl van der Schuur\",\n",
      "    \"id\": \"4930455450417326\"\n",
      "}\n"
     ]
    }
   ],
   "source": [
    "def facebook_grab():\n",
    "    token = {''}\n",
    "    graph = facebook.GraphAPI(access_token=token, version='8.0')\n",
    "    fields = ['email', 'name']\n",
    "    profile = graph.get_object('me', fields=fields)\n",
    "    print(json.dumps(profile, indent=4))\n",
    "\n",
    "facebook_grab()"
   ]
  }
 ],
 "metadata": {
  "interpreter": {
   "hash": "c92dea9ca2b9d00fee440bf5382c84762272d2baf69085fe0971415041ec6f28"
  },
  "kernelspec": {
   "display_name": "Python 3.8.8 ('base')",
   "language": "python",
   "name": "python3"
  },
  "language_info": {
   "codemirror_mode": {
    "name": "ipython",
    "version": 3
   },
   "file_extension": ".py",
   "mimetype": "text/x-python",
   "name": "python",
   "nbconvert_exporter": "python",
   "pygments_lexer": "ipython3",
   "version": "3.8.8"
  },
  "orig_nbformat": 4
 },
 "nbformat": 4,
 "nbformat_minor": 2
}
